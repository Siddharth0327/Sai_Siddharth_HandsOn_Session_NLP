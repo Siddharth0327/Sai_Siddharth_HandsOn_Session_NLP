{
 "cells": [
  {
   "cell_type": "code",
   "execution_count": 1,
   "id": "dbad838d-96e8-4247-9e7f-aff5a840aab5",
   "metadata": {},
   "outputs": [],
   "source": [
    "import pandas as pd\n",
    "import numpy as\tnp\n",
    "import re\n",
    "import nltk\n",
    "from sklearn.model_selection import\ttrain_test_split\n",
    "from sklearn.linear_model import LogisticRegression\n",
    "from sklearn.metrics import accuracy_score,\tconfusion_matrix\n",
    "from sklearn.feature_extraction.text import\tTfidfVectorizer\n",
    "from tqdm import tqdm"
   ]
  },
  {
   "cell_type": "code",
   "execution_count": 2,
   "id": "ec846d20-ea5c-4268-82c3-e477f62d5ef1",
   "metadata": {},
   "outputs": [
    {
     "name": "stderr",
     "output_type": "stream",
     "text": [
      "[nltk_data] Downloading package punkt to\n",
      "[nltk_data]     C:\\Users\\siddh\\AppData\\Roaming\\nltk_data...\n",
      "[nltk_data]   Package punkt is already up-to-date!\n",
      "[nltk_data] Downloading package stopwords to\n",
      "[nltk_data]     C:\\Users\\siddh\\AppData\\Roaming\\nltk_data...\n",
      "[nltk_data]   Package stopwords is already up-to-date!\n",
      "[nltk_data] Downloading package wordnet to\n",
      "[nltk_data]     C:\\Users\\siddh\\AppData\\Roaming\\nltk_data...\n",
      "[nltk_data]   Package wordnet is already up-to-date!\n"
     ]
    },
    {
     "data": {
      "text/plain": [
       "True"
      ]
     },
     "execution_count": 2,
     "metadata": {},
     "output_type": "execute_result"
    }
   ],
   "source": [
    " #\t---\tNLTK\tSetup\t--\n",
    "nltk.download('punkt')\n",
    "nltk.download('stopwords')\n",
    "nltk.download('wordnet')"
   ]
  },
  {
   "cell_type": "code",
   "execution_count": 3,
   "id": "010a96ab-78ae-4ad6-bdae-267b4965703a",
   "metadata": {},
   "outputs": [],
   "source": [
    "from nltk.corpus import\tstopwords\n",
    "from nltk.stem import WordNetLemmatizer\n",
    "stop_words = set(stopwords.words('english'))\n",
    "lemmatizer=WordNetLemmatizer()"
   ]
  },
  {
   "cell_type": "code",
   "execution_count": 4,
   "id": "b7b6d350-7852-4b40-bd1e-2bcefb8d3be3",
   "metadata": {},
   "outputs": [],
   "source": [
    "df =pd.read_csv('IMDB Dataset.csv')\n"
   ]
  },
  {
   "cell_type": "code",
   "execution_count": 5,
   "id": "033a4b0f-597f-4f2a-a24c-c1ea555641c3",
   "metadata": {},
   "outputs": [],
   "source": [
    " df['sentiment']= df['sentiment'].map({'positive':\t1,\t'negative':\t0})\n"
   ]
  },
  {
   "cell_type": "code",
   "execution_count": 7,
   "id": "db00a704-b642-4e26-919b-335357086ebf",
   "metadata": {},
   "outputs": [],
   "source": [
    "def\tclean_text(text):\n",
    " text = re.sub(r'<.*?>',\t'',\ttext)\t\t#\tremove\tHTML\n",
    " text = re.sub(r'[^a-zA-Z]',\t'\t',\ttext)\t\t#\tremove\tnumbers/symbols\n",
    " tokens\t= nltk.word_tokenize(text.lower())\n",
    " return\t' '.join([lemmatizer.lemmatize(word) for word in tokens if word not in stop_words])"
   ]
  },
  {
   "cell_type": "code",
   "execution_count": 8,
   "id": "278463b8-721a-4eeb-bc64-b1239f57c4eb",
   "metadata": {},
   "outputs": [],
   "source": [
    " df['clean_review']\t=\tdf['review'].apply(clean_text)\n"
   ]
  },
  {
   "cell_type": "code",
   "execution_count": 12,
   "id": "245d5989-0457-44c3-bfa5-e03d9fc31b73",
   "metadata": {},
   "outputs": [],
   "source": [
    " #\t---\t2.\tTF-IDF\t+\tLogistic\tRegression\t--\n",
    "tfidf\t=\tTfidfVectorizer(max_features=5000)\n",
    "X_tfidf\t=\ttfidf.fit_transform(df['clean_review'])\n",
    "X_train,\tX_test,\ty_train,\ty_test\t=\ttrain_test_split(X_tfidf,\tdf['sentiment'],\ttest_size=0.2,\trandom_state=42)"
   ]
  },
  {
   "cell_type": "code",
   "execution_count": 13,
   "id": "30b55d31-7144-45af-87ff-34a9561e27e3",
   "metadata": {},
   "outputs": [],
   "source": [
    "model1\t=\tLogisticRegression()\n",
    "model1.fit(X_train,\ty_train)\n",
    "preds1\t=\tmodel1.predict(X_test)"
   ]
  },
  {
   "cell_type": "code",
   "execution_count": 14,
   "id": "06ae9137-10ce-4ab9-85cc-832081e75962",
   "metadata": {},
   "outputs": [
    {
     "name": "stdout",
     "output_type": "stream",
     "text": [
      "\tTF-IDF\t+\tLogistic\tRegression\n",
      "Accuracy: 0.889\n",
      "Confusion\tMatrix:\n",
      " [[4334  627]\n",
      " [ 483 4556]]\n"
     ]
    }
   ],
   "source": [
    "print(\"\tTF-IDF\t+\tLogistic\tRegression\")\n",
    "print(\"Accuracy:\",\taccuracy_score(y_test,\tpreds1))\n",
    "print(\"Confusion\tMatrix:\\n\",\tconfusion_matrix(y_test,\tpreds1))"
   ]
  },
  {
   "cell_type": "code",
   "execution_count": 15,
   "id": "9c8cfe44-726e-404b-9a8e-70f91762462d",
   "metadata": {},
   "outputs": [
    {
     "data": {
      "text/html": [
       "<div>\n",
       "<style scoped>\n",
       "    .dataframe tbody tr th:only-of-type {\n",
       "        vertical-align: middle;\n",
       "    }\n",
       "\n",
       "    .dataframe tbody tr th {\n",
       "        vertical-align: top;\n",
       "    }\n",
       "\n",
       "    .dataframe thead th {\n",
       "        text-align: right;\n",
       "    }\n",
       "</style>\n",
       "<table border=\"1\" class=\"dataframe\">\n",
       "  <thead>\n",
       "    <tr style=\"text-align: right;\">\n",
       "      <th></th>\n",
       "      <th>review</th>\n",
       "      <th>sentiment</th>\n",
       "      <th>clean_review</th>\n",
       "    </tr>\n",
       "  </thead>\n",
       "  <tbody>\n",
       "    <tr>\n",
       "      <th>0</th>\n",
       "      <td>One of the other reviewers has mentioned that ...</td>\n",
       "      <td>1</td>\n",
       "      <td>one reviewer mentioned watching oz episode hoo...</td>\n",
       "    </tr>\n",
       "    <tr>\n",
       "      <th>1</th>\n",
       "      <td>A wonderful little production. &lt;br /&gt;&lt;br /&gt;The...</td>\n",
       "      <td>1</td>\n",
       "      <td>wonderful little production filming technique ...</td>\n",
       "    </tr>\n",
       "    <tr>\n",
       "      <th>2</th>\n",
       "      <td>I thought this was a wonderful way to spend ti...</td>\n",
       "      <td>1</td>\n",
       "      <td>thought wonderful way spend time hot summer we...</td>\n",
       "    </tr>\n",
       "    <tr>\n",
       "      <th>3</th>\n",
       "      <td>Basically there's a family where a little boy ...</td>\n",
       "      <td>0</td>\n",
       "      <td>basically family little boy jake think zombie ...</td>\n",
       "    </tr>\n",
       "    <tr>\n",
       "      <th>4</th>\n",
       "      <td>Petter Mattei's \"Love in the Time of Money\" is...</td>\n",
       "      <td>1</td>\n",
       "      <td>petter mattei love time money visually stunnin...</td>\n",
       "    </tr>\n",
       "    <tr>\n",
       "      <th>5</th>\n",
       "      <td>Probably my all-time favorite movie, a story o...</td>\n",
       "      <td>1</td>\n",
       "      <td>probably time favorite movie story selflessnes...</td>\n",
       "    </tr>\n",
       "    <tr>\n",
       "      <th>6</th>\n",
       "      <td>I sure would like to see a resurrection of a u...</td>\n",
       "      <td>1</td>\n",
       "      <td>sure would like see resurrection dated seahunt...</td>\n",
       "    </tr>\n",
       "    <tr>\n",
       "      <th>7</th>\n",
       "      <td>This show was an amazing, fresh &amp; innovative i...</td>\n",
       "      <td>0</td>\n",
       "      <td>show amazing fresh innovative idea first aired...</td>\n",
       "    </tr>\n",
       "    <tr>\n",
       "      <th>8</th>\n",
       "      <td>Encouraged by the positive comments about this...</td>\n",
       "      <td>0</td>\n",
       "      <td>encouraged positive comment film looking forwa...</td>\n",
       "    </tr>\n",
       "    <tr>\n",
       "      <th>9</th>\n",
       "      <td>If you like original gut wrenching laughter yo...</td>\n",
       "      <td>1</td>\n",
       "      <td>like original gut wrenching laughter like movi...</td>\n",
       "    </tr>\n",
       "  </tbody>\n",
       "</table>\n",
       "</div>"
      ],
      "text/plain": [
       "                                              review  sentiment  \\\n",
       "0  One of the other reviewers has mentioned that ...          1   \n",
       "1  A wonderful little production. <br /><br />The...          1   \n",
       "2  I thought this was a wonderful way to spend ti...          1   \n",
       "3  Basically there's a family where a little boy ...          0   \n",
       "4  Petter Mattei's \"Love in the Time of Money\" is...          1   \n",
       "5  Probably my all-time favorite movie, a story o...          1   \n",
       "6  I sure would like to see a resurrection of a u...          1   \n",
       "7  This show was an amazing, fresh & innovative i...          0   \n",
       "8  Encouraged by the positive comments about this...          0   \n",
       "9  If you like original gut wrenching laughter yo...          1   \n",
       "\n",
       "                                        clean_review  \n",
       "0  one reviewer mentioned watching oz episode hoo...  \n",
       "1  wonderful little production filming technique ...  \n",
       "2  thought wonderful way spend time hot summer we...  \n",
       "3  basically family little boy jake think zombie ...  \n",
       "4  petter mattei love time money visually stunnin...  \n",
       "5  probably time favorite movie story selflessnes...  \n",
       "6  sure would like see resurrection dated seahunt...  \n",
       "7  show amazing fresh innovative idea first aired...  \n",
       "8  encouraged positive comment film looking forwa...  \n",
       "9  like original gut wrenching laughter like movi...  "
      ]
     },
     "execution_count": 15,
     "metadata": {},
     "output_type": "execute_result"
    }
   ],
   "source": [
    "df.head(10)"
   ]
  },
  {
   "cell_type": "code",
   "execution_count": 16,
   "id": "0116ba5d-1efe-4c1d-9a1b-15c54120df4a",
   "metadata": {},
   "outputs": [
    {
     "data": {
      "text/plain": [
       "\"One of the other reviewers has mentioned that after watching just 1 Oz episode you'll be hooked. They are right, as this is exactly what happened with me.<br /><br />The first thing that struck me about Oz was its brutality and unflinching scenes of violence, which set in right from the word GO. Trust me, this is not a show for the faint hearted or timid. This show pulls no punches with regards to drugs, sex or violence. Its is hardcore, in the classic use of the word.<br /><br />It is called OZ as that is the nickname given to the Oswald Maximum Security State Penitentary. It focuses mainly on Emerald City, an experimental section of the prison where all the cells have glass fronts and face inwards, so privacy is not high on the agenda. Em City is home to many..Aryans, Muslims, gangstas, Latinos, Christians, Italians, Irish and more....so scuffles, death stares, dodgy dealings and shady agreements are never far away.<br /><br />I would say the main appeal of the show is due to the fact that it goes where other shows wouldn't dare. Forget pretty pictures painted for mainstream audiences, forget charm, forget romance...OZ doesn't mess around. The first episode I ever saw struck me as so nasty it was surreal, I couldn't say I was ready for it, but as I watched more, I developed a taste for Oz, and got accustomed to the high levels of graphic violence. Not just violence, but injustice (crooked guards who'll be sold out for a nickel, inmates who'll kill on order and get away with it, well mannered, middle class inmates being turned into prison bitches due to their lack of street skills or prison experience) Watching Oz, you may become comfortable with what is uncomfortable viewing....thats if you can get in touch with your darker side.\""
      ]
     },
     "execution_count": 16,
     "metadata": {},
     "output_type": "execute_result"
    }
   ],
   "source": [
    "df['review'][0]"
   ]
  },
  {
   "cell_type": "code",
   "execution_count": 17,
   "id": "b3eaf7e3-0f14-4dc8-b30a-72c5ce7ca6be",
   "metadata": {},
   "outputs": [],
   "source": [
    "#count\tvectorizer\tarranges\tthe\twords\tin\talphabetical\torder.\n",
    "#saving\tand\tusing\tthe\tmodel\tis\tcalled\tpickling.\n",
    "import\tnumpy\tas\tnp\n",
    "from\tsklearn.feature_extraction.text\timport\tCountVectorizer\n",
    "count\t=\tCountVectorizer()\n",
    "docs\t=\tnp.array(['The\tsun\tis\tshining',\n",
    "'The\tweather\tis\tsweet',\n",
    "'the\tsun\tis\tshining,\tthe\tweather\tis\tsweet,\tand\tone\tis\ttwo'])\n",
    "bag\t=\tcount.fit_transform(docs)"
   ]
  },
  {
   "cell_type": "code",
   "execution_count": 18,
   "id": "a8c0b302-1bbb-4a89-81be-de342c110651",
   "metadata": {},
   "outputs": [
    {
     "name": "stdout",
     "output_type": "stream",
     "text": [
      "{'the': 6, 'sun': 4, 'is': 1, 'shining': 3, 'weather': 8, 'sweet': 5, 'and': 0, 'one': 2, 'two': 7}\n"
     ]
    }
   ],
   "source": [
    "print(count.vocabulary_)\n"
   ]
  },
  {
   "cell_type": "markdown",
   "id": "f772b6a9-1cc7-410b-931f-3b3b84c7ffef",
   "metadata": {},
   "source": [
    "21MIC0165 _   SAI SIDDHARTH P"
   ]
  }
 ],
 "metadata": {
  "kernelspec": {
   "display_name": "Python 3 (ipykernel)",
   "language": "python",
   "name": "python3"
  },
  "language_info": {
   "codemirror_mode": {
    "name": "ipython",
    "version": 3
   },
   "file_extension": ".py",
   "mimetype": "text/x-python",
   "name": "python",
   "nbconvert_exporter": "python",
   "pygments_lexer": "ipython3",
   "version": "3.9.13"
  }
 },
 "nbformat": 4,
 "nbformat_minor": 5
}
